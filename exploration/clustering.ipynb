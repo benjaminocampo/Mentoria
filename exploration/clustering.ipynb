{
 "cells": [
  {
   "cell_type": "code",
   "execution_count": null,
   "id": "d5bb7426",
   "metadata": {
    "lines_to_next_cell": 1
   },
   "outputs": [],
   "source": [
    "# %%\n",
    "import pandas as pd\n",
    "import fasttext\n",
    "import matplotlib.pyplot as plt\n",
    "import numpy as np\n",
    "from adjustText import adjust_text\n",
    "from sklearn.manifold import TSNE\n",
    "from sklearn.cluster import KMeans\n",
    "from sklearn.metrics import silhouette_samples, silhouette_score\n",
    "from yellowbrick.cluster import SilhouetteVisualizer, KElbowVisualizer\n",
    "# %%\n",
    "URL = \"https://www.famaf.unc.edu.ar/~nocampo043/ML_2019_challenge_dataset_preprocessed.csv\"\n",
    "NOF_SAMPLES = 20000\n",
    "SEED = 0"
   ]
  },
  {
   "cell_type": "code",
   "execution_count": null,
   "id": "fd1e3b0f",
   "metadata": {
    "lines_to_next_cell": 1
   },
   "outputs": [],
   "source": [
    "def unsupervised_data_gen(sentences, corpus_file):\n",
    "    with open(corpus_file, \"w\") as out:\n",
    "        for s in sentences:\n",
    "            out.write(s + \"\\n\")"
   ]
  },
  {
   "cell_type": "code",
   "execution_count": null,
   "id": "714a4880",
   "metadata": {
    "lines_to_next_cell": 1
   },
   "outputs": [],
   "source": [
    "def get_word_embedding(vocab, vectorize):\n",
    "    return (\n",
    "        pd.DataFrame({word: vectorize(word) for word in vocab})\n",
    "        .transpose()\n",
    "        .reset_index()\n",
    "        .rename(columns={\"index\": \"word\"})\n",
    "    )"
   ]
  },
  {
   "cell_type": "code",
   "execution_count": null,
   "id": "2360b31f",
   "metadata": {
    "lines_to_next_cell": 1
   },
   "outputs": [],
   "source": [
    "def get_word_embedding_2DTSNE(vocab, model):\n",
    "    embedding = get_word_embedding(vocab, model)\n",
    "    X = embedding.drop(columns=[\"word\"])\n",
    "    X_TSNE = TSNE(n_components=2).fit_transform(X)\n",
    "    embedding_TSNE = pd.concat(\n",
    "        [pd.DataFrame(vocab, columns=[\"word\"]),\n",
    "         pd.DataFrame(X_TSNE)], axis=1)\n",
    "    return embedding_TSNE"
   ]
  },
  {
   "cell_type": "code",
   "execution_count": null,
   "id": "9caeb520",
   "metadata": {
    "lines_to_next_cell": 1
   },
   "outputs": [],
   "source": [
    "def get_sentence_embedding(sentences, vectorize):\n",
    "    return (\n",
    "        pd.DataFrame({s: vectorize(s) for s in sentences})\n",
    "        .transpose()\n",
    "        .reset_index()\n",
    "        .rename(columns={\"index\": \"sentence\"})\n",
    "    )"
   ]
  },
  {
   "cell_type": "code",
   "execution_count": null,
   "id": "05c7b66b",
   "metadata": {},
   "outputs": [],
   "source": [
    "def get_sentence_embedding_2DTSNE(sentences, vectorize):\n",
    "    embedding = get_sentence_embedding(sentences, vectorize)\n",
    "    X = embedding.drop(columns=[\"sentence\"])\n",
    "    X_TSNE = TSNE(n_components=2).fit_transform(X)\n",
    "    embedding_TSNE = pd.concat(\n",
    "        [pd.DataFrame(sentences, columns=[\"sentence\"]),\n",
    "         pd.DataFrame(X_TSNE)], axis=1)\n",
    "    return embedding_TSNE"
   ]
  },
  {
   "cell_type": "code",
   "execution_count": null,
   "id": "f1ab3c8f",
   "metadata": {},
   "outputs": [],
   "source": [
    "def plot_2DTSNE(X_TSNE,\n",
    "                expressions,\n",
    "                ax,\n",
    "                point_size=50,\n",
    "                legend_size=20,\n",
    "                tick_size=20,\n",
    "                annotation_size=20,\n",
    "                annotate=True):\n",
    "    nof_words = len(X_TSNE)\n",
    "    ax.scatter(X_TSNE[:, 0],\n",
    "               X_TSNE[:, 1],\n",
    "               s=point_size)\n",
    "    ax.set_title(\"t-SNE Plot\", fontsize=legend_size)\n",
    "    annot_list = []\n",
    "\n",
    "    if annotate:\n",
    "        nof_words_to_annotate = 20\n",
    "        for i in np.random.randint(nof_words, size=nof_words_to_annotate):\n",
    "            a = ax.annotate(expressions[i], (X_TSNE[i, 0], X_TSNE[i, 1]),\n",
    "                            size=annotation_size)\n",
    "            annot_list.append(a)\n",
    "        adjust_text(annot_list)\n",
    "\n",
    "    ax.tick_params(axis='both', which='major', labelsize=tick_size)"
   ]
  },
  {
   "cell_type": "code",
   "execution_count": null,
   "id": "920c5bbd",
   "metadata": {},
   "outputs": [],
   "source": [
    "def plot_2D_kmeans(X_TSNE,\n",
    "                   km_model,\n",
    "                   ax,\n",
    "                   point_size=50,\n",
    "                   marker_size=2,\n",
    "                   legend_size=20,\n",
    "                   tick_size=20):\n",
    "    for k in range(km_model.n_clusters):\n",
    "        ax.scatter(X_TSNE[km_model.labels_ == k, 0],\n",
    "                   X_TSNE[km_model.labels_ == k, 1],\n",
    "                   s=point_size,\n",
    "                   label=k)\n",
    "    ax.legend(bbox_to_anchor=(1.02, 1.02),\n",
    "              loc='upper left',\n",
    "              markerscale=marker_size,\n",
    "              prop={\"size\": legend_size})\n",
    "    ax.set_title(\"KMeans Plot\", fontsize=legend_size)\n",
    "    ax.tick_params(axis='both', which='major', labelsize=tick_size)"
   ]
  },
  {
   "cell_type": "code",
   "execution_count": null,
   "id": "7bfafce3",
   "metadata": {
    "lines_to_next_cell": 1
   },
   "outputs": [],
   "source": [
    "def plot_silhouette(X, km_model, ax, title_size=20, tick_size=20):\n",
    "    visualizer = SilhouetteVisualizer(km_model, colors='yellowbrick', ax=ax)\n",
    "    visualizer.fit(X)\n",
    "    ax.set_title(\"Silhoutte Plot\", fontsize=title_size)\n",
    "    ax.tick_params(axis='both', which='major', labelsize=tick_size)"
   ]
  },
  {
   "cell_type": "code",
   "execution_count": null,
   "id": "5b22f0a1",
   "metadata": {},
   "outputs": [],
   "source": [
    "def plot_elbow(X, estimator, metric, k_range, ax, title_size=10, tick_size=10):\n",
    "    visualizer = KElbowVisualizer(estimator(),\n",
    "                                  k=k_range,\n",
    "                                  metric=metric,\n",
    "                                  timings=False,\n",
    "                                  ax=ax)\n",
    "    visualizer.fit(X)\n",
    "    ax.set_title(\"Silhoutte Plot\", fontsize=title_size)\n",
    "    ax.tick_params(axis='both', which='major', labelsize=tick_size)"
   ]
  },
  {
   "cell_type": "code",
   "execution_count": null,
   "id": "fb5e2f5a",
   "metadata": {},
   "outputs": [],
   "source": [
    "# %%\n",
    "df = pd.read_csv(URL)\n",
    "df = df.sample(n=NOF_SAMPLES, random_state=SEED)\n",
    "df\n",
    "# %%\n",
    "sentences = df[\"cleaned_title\"].drop_duplicates().tolist()\n",
    "corpus_file = \"titles.txt\"\n",
    "# %%\n",
    "unsupervised_data_gen(sentences, corpus_file)\n",
    "# %%\n",
    "model = fasttext.train_unsupervised(corpus_file,\n",
    "                                    model=\"cbow\",\n",
    "                                    lr=0.3,\n",
    "                                    epoch=100,\n",
    "                                    dim=100,\n",
    "                                    wordNgrams=4,\n",
    "                                    ws=4)\n",
    "# %%\n",
    "model.get_dimension()\n",
    "# %%\n",
    "model.get_words()[:30]\n",
    "# %%\n",
    "model.get_nearest_neighbors(\"barbero\")\n",
    "# %%\n",
    "model.get_nearest_neighbors(\"cafetera\")\n",
    "# %% [markdown]\n",
    "# ## Clustering a nivel de palabra\n",
    "# %%\n",
    "vocab = model.get_words()\n",
    "embedding = get_word_embedding(vocab, model.get_word_vector)\n",
    "embedding_TSNE = get_word_embedding_2DTSNE(vocab, model.get_word_vector)\n",
    "X = embedding.drop(columns=[\"word\"]).to_numpy()\n",
    "X_TSNE = embedding_TSNE.drop(columns=[\"word\"]).to_numpy()\n",
    "# %%\n",
    "kmeans = KMeans(n_clusters=5)\n",
    "kmeans.fit(X)\n",
    "# %%\n",
    "_, (ax_kmeans, ax_tsne) = plt.subplots(1, 2, figsize=(30, 10))\n",
    "plot_2DTSNE(X_TSNE, vocab, ax_tsne)\n",
    "plot_2D_kmeans(X_TSNE, kmeans, ax_kmeans)\n",
    "ax_kmeans.grid()\n",
    "ax_tsne.grid()\n",
    "plt.show()\n",
    "# %%\n",
    "_, (ax_silhouette, ax_kmeans) = plt.subplots(1, 2, figsize=(30, 10))\n",
    "plot_silhouette(X, kmeans, ax_silhouette)\n",
    "plot_2D_kmeans(X_TSNE, kmeans, ax_kmeans)\n",
    "ax_silhouette.grid()\n",
    "ax_kmeans.grid()\n",
    "plt.show()\n",
    "# %% [markdown]\n",
    "# ## Clustering a nivel de títulos\n",
    "# %%\n",
    "embedding = get_sentence_embedding(sentences, model.get_sentence_vector)\n",
    "embedding_TSNE = get_sentence_embedding_2DTSNE(sentences,\n",
    "                                               model.get_sentence_vector)\n",
    "X = embedding.drop(columns=[\"sentence\"]).to_numpy()\n",
    "X_TSNE = embedding_TSNE.drop(columns=[\"sentence\"]).to_numpy()\n",
    "# %%\n",
    "fig, ax_elbow = plt.subplots()\n",
    "k_range = (2, 20)\n",
    "plot_elbow(X, KMeans, \"distortion\", k_range, ax_elbow)\n",
    "plt.show()\n",
    "# %%\n",
    "kmeans = KMeans(n_clusters=11)\n",
    "kmeans.fit(X)\n",
    "# %%\n",
    "_, (ax_silhouette, ax_kmeans) = plt.subplots(1, 2, figsize=(30, 10))\n",
    "plot_silhouette(X, kmeans, ax_silhouette)\n",
    "plot_2D_kmeans(X_TSNE, kmeans, ax_kmeans)\n",
    "ax_silhouette.grid()\n",
    "ax_kmeans.grid()\n",
    "plt.show()"
   ]
  }
 ],
 "metadata": {
  "jupytext": {
   "main_language": "python"
  },
  "kernelspec": {
   "display_name": "Python 3.9.6 64-bit ('datasc': conda)",
   "name": "python3"
  }
 },
 "nbformat": 4,
 "nbformat_minor": 5
}
