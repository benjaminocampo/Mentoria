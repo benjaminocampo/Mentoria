{
 "cells": [
  {
   "cell_type": "markdown",
   "id": "2fdecf30",
   "metadata": {
    "cell_marker": "\"\"\"",
    "lines_to_next_cell": 0
   },
   "source": [
    "# Categorización de publicaciones de productos de Mercado Libre\n",
    "\n",
    "Autores: Maximiliano Tejerina, Eduardo Barseghian, Benjamín Ocampo\n",
    "\n",
    "En `items_exploration.ipynb` se trabajó sobre un conjunto reducido de títulos\n",
    "etiquetados de publicaciones de Mercado Libre, donde se analizó la\n",
    "confiabilidad de las etiquetas, frecuencia de palabras, y dependencia de\n",
    "variables, con el objetivo de obtener información que influya en la predicción\n",
    "de la categoría más adecuada de un producto dado el título de su publicación.\n",
    "Con el fin de utilizar modelos de *machine learning* en esta tarea, es\n",
    "necesario realizar una codificación de los datos tabulados. Por ende, esta\n",
    "notebook analiza los distintos pasos necesarios para obtener una matriz\n",
    "resultante que pueda ser evaluada en modelos de clasificación."
   ]
  },
  {
   "cell_type": "markdown",
   "id": "53c3e998",
   "metadata": {
    "cell_marker": "\"\"\"",
    "lines_to_next_cell": 0
   },
   "source": [
    "## Definición de funciones y constantes *helper*\n",
    "\n",
    "Al igual que en la exploración, se definen algunas funcionalidades que serán de\n",
    "utilidad durante la codificación, pero que no son muy relevantes para el\n",
    "seguimiento de este trabajo. No obstante, con el fin de mantener la\n",
    "reproducibilidad con herramientas *online* tales como `Google Colab`, son\n",
    "mantenidas en una sección dentro de esta notebook."
   ]
  },
  {
   "cell_type": "code",
   "execution_count": null,
   "id": "657fce0b",
   "metadata": {
    "lines_to_next_cell": 0
   },
   "outputs": [],
   "source": [
    "from numpy.lib.npyio import save\n",
    "import pandas as pd\n",
    "import tensorflow as tf\n",
    "import re\n",
    "import io\n",
    "# keras libraries\n",
    "from keras import Sequential\n",
    "from keras.layers import Dense, Flatten, embeddings\n",
    "from keras.preprocessing import text, sequence\n",
    "# preprocessing libraries\n",
    "from nltk import (download, corpus, tokenize)\n",
    "from sklearn.preprocessing import LabelEncoder\n",
    "from unidecode import unidecode\n",
    "\n",
    "download(\"stopwords\")\n",
    "download('punkt')\n",
    "\n",
    "stopwords = (set(corpus.stopwords.words(\"spanish\")) |\n",
    "             set(corpus.stopwords.words(\"portuguese\")))\n",
    "\n",
    "URL = \"https://www.famaf.unc.edu.ar/~nocampo043/ml_challenge2019_dataset.csv\"\n",
    "df = pd.read_csv(URL)\n",
    "\n",
    "\n",
    "def clean_text(s: str) -> str:\n",
    "    \"\"\"\n",
    "    Given a string @s the following parsing is performed:\n",
    "        - Removes non-ascii characters.\n",
    "        - Removes numbers and special symbols.\n",
    "        - Expand common contractions.\n",
    "        - Removes stopwords.\n",
    "    \"\"\"\n",
    "    numbers = r\"\\d+\"\n",
    "    symbols = r\"[^a-zA-Z ]\"\n",
    "    # TODO: See if we can find more contractions.\n",
    "    contractions = [\n",
    "        (\"c/u\", \"cada uno\"),\n",
    "        (\"c/\", \"con\"),\n",
    "        (\"p/\", \"para\"),\n",
    "    ]\n",
    "    # TODO: Can we avoid chaining assignments? Maybe function composition.\n",
    "    s = unidecode(s)\n",
    "    s = s.lower()\n",
    "    for expression, replacement in contractions:\n",
    "        s = s.replace(expression, replacement)\n",
    "    s = re.sub(numbers, \"\", s)\n",
    "    s = re.sub(symbols, \"\", s)\n",
    "    s = ' '.join(w for w in tokenize.word_tokenize(s) if not w in stopwords)\n",
    "    return s\n",
    "\n",
    "\n",
    "def save_embedding(vocab, weights):\n",
    "    out_vectors = io.open('vectors.tsv', 'w', encoding='utf-8')\n",
    "    out_metadata = io.open('metadata.tsv', 'w', encoding='utf-8')\n",
    "\n",
    "    for index, word in enumerate(vocab):\n",
    "        if index != 0:\n",
    "            vec = weights[index]\n",
    "            out_vectors.write('\\t'.join([str(x) for x in vec]) + \"\\n\")\n",
    "            out_metadata.write(word + \"\\n\")\n",
    "    out_vectors.close()\n",
    "    out_metadata.close()"
   ]
  },
  {
   "cell_type": "markdown",
   "id": "9a972641",
   "metadata": {
    "cell_marker": "\"\"\"",
    "lines_to_next_cell": 0
   },
   "source": [
    "## Limpieza de Texto\n",
    "\n",
    "Si se observan algunos ejemplos de títulos en el conjunto de datos se puede ver\n",
    "que varios de ellos utilizan números, símbolos especiales, o combinaciones de\n",
    "mayúsculas y minúsculas con el fin de capturar la atención del lector. Sin\n",
    "embargo, una palabra que es escrita de distintas maneras no es relevante para\n",
    "catalogar dichas publicaciones. De manera similar ocurre con caracteres\n",
    "especiales, números, e incluso artículos o proposiciones. Por ende, se procedió\n",
    "a realizar un preprocesamiento de cada uno de los títulos donde se reemplazan:\n",
    "\n",
    " - Mayúsculas por minúsculas.\n",
    " - Caracteres que no tienen una codificación ascii.\n",
    " - Números y símbolos.\n",
    " - Contracciones de palabras por su expresión completa.\n",
    " - *Stopwords*\n",
    "\n",
    "Esto es realizado por la función `clean_text` siendo aplicada para cada uno de\n",
    "los títulos del conjunto de datos."
   ]
  },
  {
   "cell_type": "code",
   "execution_count": null,
   "id": "dfc8eaac",
   "metadata": {
    "lines_to_next_cell": 0
   },
   "outputs": [],
   "source": [
    "df[\"title\"].sample(5)"
   ]
  },
  {
   "cell_type": "code",
   "execution_count": null,
   "id": "3a946de4",
   "metadata": {
    "lines_to_next_cell": 0
   },
   "outputs": [],
   "source": [
    "df = df.assign(cleaned_title=df[\"title\"].apply(clean_text))\n",
    "df[[\"title\", \"cleaned_title\"]]"
   ]
  },
  {
   "cell_type": "markdown",
   "id": "67ea7656",
   "metadata": {
    "cell_marker": "\"\"\"",
    "lines_to_next_cell": 0
   },
   "source": [
    "## Codificación de títulos: tokenización y secuencias\n",
    "\n",
    "Una vez realizada la limpieza de los títulos, se procedió a identificar cada una\n",
    "de las palabras que ocurren en ellos, confeccionando de esta manera un\n",
    "vocabulario."
   ]
  },
  {
   "cell_type": "code",
   "execution_count": null,
   "id": "0bc363bf",
   "metadata": {
    "lines_to_next_cell": 0
   },
   "outputs": [],
   "source": [
    "word_tokenizer = text.Tokenizer()\n",
    "word_tokenizer.fit_on_texts(df[\"cleaned_title\"])"
   ]
  },
  {
   "cell_type": "markdown",
   "id": "6d681354",
   "metadata": {
    "cell_marker": "\"\"\"",
    "lines_to_next_cell": 0
   },
   "source": [
    "Esta identificación de palabras o *tokens* es realizada por una instancia de la\n",
    "clase `Tokenizer` de `Keras` a partir de `fit_on_texts` dando lugar a algunas\n",
    "propiedades y métodos, como la cantidad de oraciones utilizadas, frecuencia de\n",
    "palabras, y orden por tokens más frecuentes."
   ]
  },
  {
   "cell_type": "code",
   "execution_count": null,
   "id": "80b4f3b8",
   "metadata": {
    "lines_to_next_cell": 0
   },
   "outputs": [],
   "source": [
    "word_tokenizer.word_counts"
   ]
  },
  {
   "cell_type": "code",
   "execution_count": null,
   "id": "8136bc9b",
   "metadata": {
    "lines_to_next_cell": 0
   },
   "outputs": [],
   "source": [
    "word_tokenizer.word_index"
   ]
  },
  {
   "cell_type": "markdown",
   "id": "bb1d68a2",
   "metadata": {
    "cell_marker": "\"\"\"",
    "lines_to_next_cell": 0
   },
   "source": [
    "En este caso, el atributo `word_index` muestra el vocabulario obtenido, donde a\n",
    "cada palabra se le asigna un único índice según su frecuencia dada por\n",
    "`word_counts`. Por ejemplo, el *token* `maquina` tiene mayor frecuencia que\n",
    "todas las palabras en el vocabulario y por ende se le asigna el índice 1, luego\n",
    "les siguen `x` con el índice 2, y así sucesivamente."
   ]
  },
  {
   "cell_type": "code",
   "execution_count": null,
   "id": "aebb40c4",
   "metadata": {
    "lines_to_next_cell": 0
   },
   "outputs": [],
   "source": [
    "encoded_titles = word_tokenizer.texts_to_sequences(df[\"cleaned_title\"])\n",
    "encoded_titles[:5]"
   ]
  },
  {
   "cell_type": "markdown",
   "id": "e5d4dd48",
   "metadata": {
    "cell_marker": "\"\"\"",
    "lines_to_next_cell": 0
   },
   "source": [
    "Basándose en esto, se codificaron los títulos asignándole un vector\n",
    "correspondiente a los índices de cada una de las palabras que lo componen por\n",
    "medio de `texts_to_sequences`. Por ejemplo, el título `galoneira semi\n",
    "industrial` se le asigna el vector `[576, 186, 40]`, ya que `galoneira`, `semi`,\n",
    "e `industrial` son las palabras 576, 186, y 40 más frecuente del vocabulario, es\n",
    "decir, dichos números son los índices asignados a cada una de esas palabras como\n",
    "puede a través de la siguiente celda."
   ]
  },
  {
   "cell_type": "code",
   "execution_count": null,
   "id": "2ea968b0",
   "metadata": {
    "lines_to_next_cell": 0
   },
   "outputs": [],
   "source": [
    "(\n",
    "    word_tokenizer.word_index[\"galoneira\"],\n",
    "    word_tokenizer.word_index[\"semi\"],\n",
    "    word_tokenizer.word_index[\"industrial\"]\n",
    ")"
   ]
  },
  {
   "cell_type": "markdown",
   "id": "966107a8",
   "metadata": {
    "cell_marker": "\"\"\"",
    "lines_to_next_cell": 0
   },
   "source": [
    "Ahora bien, los vectores obtenidos tienen largos distintos según la cantidad de\n",
    "palabras que un título presente. Dado que un modelo requiere datos de entrada de\n",
    "una dimensión concreta, se rellenó con 0’s los vectores de representación hasta\n",
    "obtener una longitud en común."
   ]
  },
  {
   "cell_type": "code",
   "execution_count": null,
   "id": "3fdfa930",
   "metadata": {
    "lines_to_next_cell": 0
   },
   "outputs": [],
   "source": [
    "encoded_titles = sequence.pad_sequences(encoded_titles, padding='post')\n",
    "encoded_titles[:5]"
   ]
  },
  {
   "cell_type": "code",
   "execution_count": null,
   "id": "b9c5b714",
   "metadata": {
    "lines_to_next_cell": 0
   },
   "outputs": [],
   "source": [
    "encoded_titles.shape"
   ]
  },
  {
   "cell_type": "markdown",
   "id": "74e12147",
   "metadata": {
    "cell_marker": "\"\"\"",
    "lines_to_next_cell": 0
   },
   "source": [
    "## Codificación de etiquetas: *Label encoding*\n",
    "\n",
    "De igual manera que para los títulos, se necesitó codificar sus categorías\n",
    "asignadas. Sin embargo, no fue por medio de secuencias de números sino más bien\n",
    "a través de un índice por cada etiqueta, usando una instancia de la clase\n",
    "`LabelEncoder` de la librería `scikit-learn`."
   ]
  },
  {
   "cell_type": "code",
   "execution_count": null,
   "id": "9555d90c",
   "metadata": {
    "lines_to_next_cell": 0
   },
   "outputs": [],
   "source": [
    "le = LabelEncoder()\n",
    "encoded_labels = le.fit_transform(df[\"category\"])\n",
    "encoded_labels"
   ]
  },
  {
   "cell_type": "code",
   "execution_count": null,
   "id": "e87756b9",
   "metadata": {
    "lines_to_next_cell": 0
   },
   "outputs": [],
   "source": [
    "le.classes_"
   ]
  },
  {
   "cell_type": "markdown",
   "id": "41e50e6a",
   "metadata": {
    "cell_marker": "\"\"\"",
    "lines_to_next_cell": 0
   },
   "source": [
    "`encoded_labels` corresponde a la misma columna de datos `category` del\n",
    "*dataframe* `df` con la diferencia de haber reemplazado cada etiqueta por un\n",
    "número entre 0 y el total de categorías. Luego, en caso de querer realizar el\n",
    "paso inverso de decodificación se puede usar el método `inverse_transorme` del\n",
    "codificador `le`. Por ejemplo, la etiqueta cuyo índice es 15 corresponde con\n",
    "`SEWING_MACHINES`."
   ]
  },
  {
   "cell_type": "code",
   "execution_count": null,
   "id": "9fcbc3be",
   "metadata": {
    "lines_to_next_cell": 0
   },
   "outputs": [],
   "source": [
    "le.inverse_transform([15])"
   ]
  },
  {
   "cell_type": "markdown",
   "id": "6f08dcc5",
   "metadata": {
    "cell_marker": "\"\"\"",
    "lines_to_next_cell": 0
   },
   "source": [
    "## *Word Embeddings*\n",
    "\n",
    "En la sección anterior se representaron los títulos de las publicaciones por\n",
    "medio de vectores densos, donde una palabra era representada por el índice $i$,\n",
    "si esta era la $i-ésima$ palabra más frecuente. No obstante, también se pueden\n",
    "representar las palabras por medio de vectores que mantengan su semántica, es\n",
    "decir, aquellas que tengan un significado similar, tendrán por consecuente una\n",
    "representación vectorial similar.\n",
    "\n",
    "Un *word embedding* es una matriz de parámetros entrenables donde a cada palabra\n",
    "del vocabulario se le asigna un vector representante. En esta sección, se\n",
    "procedió a obtener esta matriz con 2 métodos distintos:\n",
    "\n",
    " - Entrenando los parámetros por medio de los datos disponibles (*Custom*).\n",
    " - Utilizando representaciones disponibles en la web (*Pretrained*)."
   ]
  },
  {
   "cell_type": "markdown",
   "id": "d90e897e",
   "metadata": {
    "cell_marker": "\"\"\"",
    "lines_to_next_cell": 0
   },
   "source": [
    "### *Custom*\n",
    "\n",
    "Para instanciar un *embedding* de las palabras del conjunto de datos, se\n",
    "necesitó obtener la longitud del título más largo, el tamaño del vocabulario, y\n",
    "la dimensión de los vectores representación."
   ]
  },
  {
   "cell_type": "code",
   "execution_count": null,
   "id": "9e2613ee",
   "metadata": {
    "lines_to_next_cell": 0
   },
   "outputs": [],
   "source": [
    "_, long_sentence_size = encoded_titles.shape\n",
    "nof_dim_out_of_vocab = 1\n",
    "vocab_size = len(word_tokenizer.word_index) + nof_dim_out_of_vocab\n",
    "output_dim = 64"
   ]
  },
  {
   "cell_type": "markdown",
   "id": "5b40fd8a",
   "metadata": {
    "cell_marker": "\"\"\"",
    "lines_to_next_cell": 0
   },
   "source": [
    "Cabe recordar que el tamaño del vocabulario es la cantidad de palabras distintas\n",
    "que ocurren en los títulos de las publicaciones más el número de dimensiones\n",
    "para representar las palabras fuera del vocabulario."
   ]
  },
  {
   "cell_type": "code",
   "execution_count": null,
   "id": "bba0aa71",
   "metadata": {
    "lines_to_next_cell": 0
   },
   "outputs": [],
   "source": [
    "embedding_layer = embeddings.Embedding(vocab_size,\n",
    "                                       output_dim,\n",
    "                                       input_length=long_sentence_size)\n",
    "embedding_layer(tf.constant([1, 2]))"
   ]
  },
  {
   "cell_type": "markdown",
   "id": "bc470aea",
   "metadata": {
    "cell_marker": "\"\"\"",
    "lines_to_next_cell": 0
   },
   "source": [
    "Una vez instanciado el *embedding* se puede evaluarlo en índices que representan\n",
    "algúna palabra obteniendo la representación resultante. Por ejemplo, para los\n",
    "números 1 y 2 se obtuvieron los vectores dados por la celda anterior."
   ]
  },
  {
   "cell_type": "code",
   "execution_count": null,
   "id": "eebb6964",
   "metadata": {
    "lines_to_next_cell": 0
   },
   "outputs": [],
   "source": [
    "weights = embedding_layer.get_weights()[0]\n",
    "vocab = word_tokenizer.word_index.keys()"
   ]
  },
  {
   "cell_type": "markdown",
   "id": "23d4d8fc",
   "metadata": {
    "cell_marker": "\"\"\"",
    "lines_to_next_cell": 0
   },
   "source": [
    "Cabe recalcar nuevamente que los parámetros del *embedding* instanciado fueron\n",
    "asignados de manera aleatoria. En esta notebook, no se trabajará sobre la parte\n",
    "de entrenamiento de los *word embeddings* sino más bien, en lo que es necesario\n",
    "para su instanciación y escritura en disco. De todas formas, observar que se\n",
    "pueden acceder a los pesos y al vocabulario de un embedding aún si estos no se\n",
    "realizó este paso."
   ]
  },
  {
   "cell_type": "code",
   "execution_count": null,
   "id": "d04d0964",
   "metadata": {
    "lines_to_next_cell": 0
   },
   "outputs": [],
   "source": [
    "save_embedding(vocab, weights)"
   ]
  },
  {
   "cell_type": "markdown",
   "id": "658d35bb",
   "metadata": {
    "cell_marker": "\"\"\"",
    "lines_to_next_cell": 0
   },
   "source": [
    "Se utilizó la función `save_embedding` para almacenar en 2 archivos separados de\n",
    "manera estructurada para cada palabra en `vocab` su representación vectorial.\n",
    "Una vez descargados, estos pueden visualizarse por medio de la herramienta\n",
    "[Embedding Projector](http://projector.tensorflow.org/). Para ello.\n",
    "\n",
    " - Seleccionar *Load data*.\n",
    " - Agregar los 2 archivos creados por la celda anterior `metadata.tsv` y\n",
    "   `vectors.tsv`."
   ]
  },
  {
   "cell_type": "markdown",
   "id": "8696fff7",
   "metadata": {
    "cell_marker": "\"\"\"",
    "lines_to_next_cell": 0
   },
   "source": [
    "### *Pretrained*"
   ]
  },
  {
   "cell_type": "code",
   "execution_count": null,
   "id": "01853ed9",
   "metadata": {},
   "outputs": [],
   "source": []
  }
 ],
 "metadata": {
  "jupytext": {
   "cell_markers": "\"\"\"",
   "cell_metadata_filter": "-all",
   "encoding": "# -*- coding: utf-8 -*-",
   "main_language": "python"
  }
 },
 "nbformat": 4,
 "nbformat_minor": 5
}
