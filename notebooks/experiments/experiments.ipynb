{
 "cells": [
  {
   "cell_type": "code",
   "execution_count": null,
   "id": "6b9948d7",
   "metadata": {
    "lines_to_next_cell": 0
   },
   "outputs": [],
   "source": [
    "!pip install mlflow\n",
    "!pip install keras\n",
    "!pip install gensim --upgrade"
   ]
  },
  {
   "cell_type": "code",
   "execution_count": null,
   "id": "43ef517d",
   "metadata": {
    "lines_to_next_cell": 0
   },
   "outputs": [],
   "source": [
    "import mlflow\n",
    "import pandas as pd\n",
    "from keras.wrappers.scikit_learn import KerasClassifier\n",
    "from sklearn.model_selection import train_test_split\n",
    "from sklearn.model_selection import RandomizedSearchCV\n",
    "from sklearn.metrics import balanced_accuracy_score, accuracy_score\n",
    "from sklearn.utils.fixes import loguniform\n",
    "from scipy.stats import uniform, randint\n",
    "\n",
    "from models import ff_model, lstm_model\n",
    "\n",
    "import warnings\n",
    "warnings.filterwarnings(\"module\", category=DeprecationWarning)"
   ]
  },
  {
   "cell_type": "code",
   "execution_count": null,
   "id": "db24658c",
   "metadata": {
    "lines_to_next_cell": 0
   },
   "outputs": [],
   "source": [
    "URL = \"https://www.famaf.unc.edu.ar/~nocampo043/ML_2019_challenge_dataset_preprocessed.csv\"\n",
    "NOF_SAMPLES = 20000\n",
    "SEED = 0\n",
    "\n",
    "df = pd.read_csv(URL)\n",
    "df.sample(n=NOF_SAMPLES, random_state=SEED)"
   ]
  },
  {
   "cell_type": "code",
   "execution_count": null,
   "id": "764f26eb",
   "metadata": {
    "lines_to_next_cell": 0
   },
   "outputs": [],
   "source": [
    "x = df\n",
    "y = df[\"encoded_category\"]\n",
    "x_train, x_test, y_train, y_test = train_test_split(x,\n",
    "                                                    y,\n",
    "                                                    test_size=0.2,\n",
    "                                                    random_state=SEED)\n",
    "\n",
    "x_test_unrel = x_test[x_test[\"label_quality\"] == \"unreliable\"]\n",
    "y_test_unrel = x_test_unrel[\"encoded_category\"]\n",
    "\n",
    "x_test_rel = x_test[x_test[\"label_quality\"] == \"reliable\"]\n",
    "y_test_rel = x_test_rel[\"encoded_category\"]"
   ]
  },
  {
   "cell_type": "code",
   "execution_count": null,
   "id": "273a8d2e",
   "metadata": {
    "lines_to_next_cell": 0
   },
   "outputs": [],
   "source": [
    "length_long_sentence = (df[\"cleaned_title\"].apply(lambda s: s.split()).apply(\n",
    "    lambda s: len(s)).max())"
   ]
  },
  {
   "cell_type": "code",
   "execution_count": null,
   "id": "a7eaf1ac",
   "metadata": {
    "lines_to_next_cell": 0
   },
   "outputs": [],
   "source": [
    "mlflow.set_experiment(\"LSTM vs Feed Forward\")\n",
    "\n",
    "with mlflow.start_run():\n",
    "    build_ff = lambda units, dropout, lr, embedding_dim: ff_model(\n",
    "        x_train[\"cleaned_title\"], length_long_sentence, units, dropout, lr, embedding_dim)\n",
    "\n",
    "    build_lstm = lambda units, dropout, lr, embedding_dim: lstm_model(\n",
    "        x_train[\"cleaned_title\"], length_long_sentence, units, dropout, lr, embedding_dim)\n",
    "\n",
    "    ff = KerasClassifier(build_fn=build_ff)\n",
    "\n",
    "    lstm = KerasClassifier(build_fn=build_lstm)\n",
    "\n",
    "    dist = {\n",
    "        \"batch_size\": [100, 1000],\n",
    "        \"epochs\": [5, 10],\n",
    "        \"units\": randint(256, 512),\n",
    "        \"lr\": loguniform(1e-4, 1e-1),\n",
    "        \"dropout\": uniform(.1, .6),\n",
    "        \"embedding_dim\": randint(50, 200)\n",
    "    }\n",
    "\n",
    "    searches = [\n",
    "        (ff, dist),\n",
    "        (lstm, dist)\n",
    "    ]\n",
    "\n",
    "    for hyper_model, dist in searches:\n",
    "        mlflow.log_params(dist)\n",
    "\n",
    "        clf = RandomizedSearchCV(estimator=hyper_model,\n",
    "                                 param_distributions=dist,\n",
    "                                 cv=5,\n",
    "                                 scoring=\"balanced_accuracy\",\n",
    "                                 verbose=3)\n",
    "\n",
    "        clf.fit(x_train[\"cleaned_title\"], y_train)\n",
    "\n",
    "        y_pred = clf.best_estimator_.predict(x_test[\"cleaned_title\"])\n",
    "        y_pred_rel = clf.best_estimator_.predict(x_test_rel[\"cleaned_title\"])\n",
    "        y_pred_unrel = clf.best_estimator_.predict(x_test_unrel[\"cleaned_title\"])\n",
    "\n",
    "        blc_acc = balanced_accuracy_score(y_test, y_pred)\n",
    "        blc_acc_rel = balanced_accuracy_score(y_test_rel, y_pred_rel)\n",
    "        blc_acc_unrel = balanced_accuracy_score(y_test_unrel, y_pred_unrel)\n",
    "\n",
    "        acc = accuracy_score(y_test, y_pred)\n",
    "        acc_rel = accuracy_score(y_test_rel, y_pred_rel)\n",
    "        acc_unrel = accuracy_score(y_test_unrel, y_pred_unrel)\n",
    "\n",
    "        mlflow.log_metric(\"balanced_accuracy\", blc_acc)\n",
    "        mlflow.log_metric(\"balanced_accuracy reliable\", blc_acc_rel)\n",
    "        mlflow.log_metric(\"balanced_accuracy unreliable\", blc_acc_unrel)\n",
    "\n",
    "        mlflow.log_metric(\"accuracy\", acc)\n",
    "        mlflow.log_metric(\"accuracy reliable\", acc_rel)\n",
    "        mlflow.log_metric(\"accuracy unreliable\", acc_unrel)\n",
    "\n",
    "        predictions = pd.DataFrame(data={\"y_pred\": y_pred, \"y_test\": y_test})\n",
    "        predictions.to_csv(f\"predictions.csv\", index=False)"
   ]
  },
  {
   "cell_type": "code",
   "execution_count": null,
   "id": "012dc4e2",
   "metadata": {},
   "outputs": [],
   "source": []
  }
 ],
 "metadata": {
  "jupytext": {
   "cell_metadata_filter": "-all",
   "main_language": "python",
   "notebook_metadata_filter": "-all"
  }
 },
 "nbformat": 4,
 "nbformat_minor": 5
}
