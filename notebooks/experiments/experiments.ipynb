{
 "cells": [
  {
   "cell_type": "markdown",
   "id": "9a8d3703",
   "metadata": {
    "lines_to_next_cell": 0
   },
   "source": [
    "## Pipeline\n",
    "Con el fin de automatizar la ejecución de los modelos que se van utilizar para\n",
    "experimentar y proponer hipótesis, se optó por implementar un pipeline que realicen\n",
    "de principio a fin\n",
    "\n",
    "- Carga del archivo (`load_data`)\n",
    "- Preprocesamiento de datos (`preprocess_data`)\n",
    "- Split de datos (`split_data`)\n",
    "- Códificación de titulos, confección de word embeddings (`encode_data`)\n",
    "- Selección de modelos predefinidos (`select_model`)\n",
    "- Partición en train y validación. Obtención de métricas (`k_fold_cross_validation`)\n",
    "- Evaluación el modelo. Obtención de métricas (`evaluate_model`)\n",
    "- Guardar predicciones\n",
    "\n",
    "Para el registro de métricas se hizo uso de `mlflow` una libreria para la organización\n",
    "del flujo de trabajo en procesos de *Machine Learning* permitiendo además\n",
    "realizar automaticamente las curvas de accuracy y loss.\n",
    "\n",
    "Se entrenaron 3 modelos:\n",
    "\n",
    "- base: Modelo baseline de dos capas ocultas de 256 y 128 respectivamente.\n",
    "- base_wd: Modelo baseline con dropout entre las capas ocultas de 0.4.\n",
    "- base_wbn: Modelo baseline con batch normalization entre las capas ocultas.\n",
    "\n",
    "La siguientes celdas son un ejemplo de ejecución de algunos experimentos con\n",
    "estos modelos utilizando custom word embeddings y una muestra del dataframe\n",
    "completo para evitar realizar el entrenamiento completo."
   ]
  },
  {
   "cell_type": "code",
   "execution_count": null,
   "id": "058db0d0",
   "metadata": {
    "lines_to_next_cell": 1
   },
   "outputs": [],
   "source": [
    "import mlflow\n",
    "from mlflow.tracking import MlflowClient\n",
    "from dataclasses import dataclass\n",
    "from pipeline import Pipeline\n",
    "\n",
    "@dataclass\n",
    "class Params:\n",
    "    model:str\n",
    "    kfolds = 5\n",
    "    seed = 0\n",
    "    batch_size = 128\n",
    "    embedding_dim = 50\n",
    "    embedding_url = \"https://www.famaf.unc.edu.ar/~nocampo043/fasttext_sp_pt.vec\"\n",
    "    embedding_type = \"custom\"\n",
    "    nof_samples = 20000\n",
    "    test_size = 0.2\n",
    "    epochs = 20\n",
    "    dataset_url = \"https://www.famaf.unc.edu.ar/~nocampo043/ml_challenge2019_dataset.csv\"\n",
    "\n",
    "\n",
    "def run_model(model_name):\n",
    "    params = Params(model=model_name)\n",
    "    client = MlflowClient()\n",
    "\n",
    "    try:\n",
    "        experiment_id = client.create_experiment(model_name)\n",
    "    except:\n",
    "        experiment_id = client.get_experiment_by_name(model_name).experiment_id\n",
    "\n",
    "    with mlflow.start_run(experiment_id=experiment_id):\n",
    "        pipeline = Pipeline(params)\n",
    "\n",
    "        pipeline.run()"
   ]
  },
  {
   "cell_type": "code",
   "execution_count": null,
   "id": "a6726f88",
   "metadata": {
    "lines_to_next_cell": 0
   },
   "outputs": [],
   "source": [
    "run_model(model_name=\"base\")"
   ]
  },
  {
   "cell_type": "code",
   "execution_count": null,
   "id": "9e83ca08",
   "metadata": {
    "lines_to_next_cell": 0
   },
   "outputs": [],
   "source": [
    "run_model(model_name=\"base_wd\")"
   ]
  },
  {
   "cell_type": "code",
   "execution_count": null,
   "id": "4690fe1d",
   "metadata": {},
   "outputs": [],
   "source": [
    "run_model(model_name=\"base_wbn\")"
   ]
  },
  {
   "cell_type": "markdown",
   "id": "5c1229ed",
   "metadata": {
    "lines_to_next_cell": 0
   },
   "source": [
    "Para visualizar las métricas de cada uno de los experimentos es necesario ejecutar"
   ]
  },
  {
   "cell_type": "code",
   "execution_count": null,
   "id": "5e995fbe",
   "metadata": {
    "lines_to_next_cell": 0
   },
   "outputs": [],
   "source": [
    "!mlflow ui"
   ]
  },
  {
   "cell_type": "markdown",
   "id": "cbf087bc",
   "metadata": {},
   "source": [
    "Entre los resultados obtenidos a priori nuestro modelo baseline parece obtener\n",
    "los mejores resultados en testing. Sin embargo, no se realizaron busquedas\n",
    "exhaustivas de modelos o hiperparámetros sobre los otros modelos, para\n",
    "intentar obtener alguna mejora sustancial que supere a nuestro baseline. Se\n",
    "trabajó especialmente en la infraestructura y layout para poder ejecutar\n",
    "automáticamente futuros experimentos."
   ]
  }
 ],
 "metadata": {
  "jupytext": {
   "cell_metadata_filter": "-all",
   "main_language": "python",
   "notebook_metadata_filter": "-all"
  }
 },
 "nbformat": 4,
 "nbformat_minor": 5
}
