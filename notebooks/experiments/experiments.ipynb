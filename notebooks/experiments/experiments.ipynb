{
 "cells": [
  {
   "cell_type": "code",
   "execution_count": null,
   "id": "2f1899c1",
   "metadata": {
    "lines_to_next_cell": 1
   },
   "outputs": [],
   "source": [
    "import mlflow\n",
    "from mlflow.tracking import MlflowClient\n",
    "from dataclasses import dataclass\n",
    "from pipeline import Pipeline\n",
    "\n",
    "@dataclass\n",
    "class Params:\n",
    "    model:str\n",
    "    kfolds = 5\n",
    "    seed = 0\n",
    "    batch_size = 128\n",
    "    embedding_dim = 50\n",
    "    embedding_url = \"https://www.famaf.unc.edu.ar/~nocampo043/fasttext_sp_pt.vec\"\n",
    "    embedding_type = \"custom\"\n",
    "    nof_samples = 20000\n",
    "    test_size = 0.2\n",
    "    epochs = 20\n",
    "    dataset_url = \"https://www.famaf.unc.edu.ar/~nocampo043/ml_challenge2019_dataset.csv\"\n",
    "\n",
    "\n",
    "def run_model(model_name):\n",
    "    params = Params(model=model_name)\n",
    "    client = MlflowClient()\n",
    "\n",
    "    try:\n",
    "        experiment_id = client.create_experiment(model_name)\n",
    "    except:\n",
    "        experiment_id = client.get_experiment_by_name(model_name).experiment_id\n",
    "\n",
    "    with mlflow.start_run(experiment_id=experiment_id):\n",
    "        pipeline = Pipeline(params)\n",
    "        pipeline.run()"
   ]
  },
  {
   "cell_type": "code",
   "execution_count": null,
   "id": "e1d4cb61",
   "metadata": {
    "lines_to_next_cell": 0
   },
   "outputs": [],
   "source": [
    "run_model(model_name=\"base\")"
   ]
  },
  {
   "cell_type": "code",
   "execution_count": null,
   "id": "d7cfdfe9",
   "metadata": {
    "lines_to_next_cell": 0
   },
   "outputs": [],
   "source": [
    "run_model(model_name=\"base_wd\")"
   ]
  },
  {
   "cell_type": "code",
   "execution_count": null,
   "id": "2a53fc8e",
   "metadata": {},
   "outputs": [],
   "source": [
    "run_model(model_name=\"base_wbn\")"
   ]
  }
 ],
 "metadata": {
  "jupytext": {
   "cell_metadata_filter": "-all",
   "main_language": "python",
   "notebook_metadata_filter": "-all"
  }
 },
 "nbformat": 4,
 "nbformat_minor": 5
}
