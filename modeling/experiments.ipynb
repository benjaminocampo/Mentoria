{
 "cells": [
  {
   "cell_type": "markdown",
   "id": "a90a5df0",
   "metadata": {
    "lines_to_next_cell": 0
   },
   "source": [
    "# Categorización de publicaciones de productos de Mercado Libre\n",
    "Autores: Maximiliano Tejerina, Eduardo Barseghian, Benjamín Ocampo"
   ]
  },
  {
   "cell_type": "markdown",
   "id": "dd8244bd",
   "metadata": {
    "lines_to_next_cell": 0
   },
   "source": [
    "Una vez finalizadas las etapas de visualización de datos, preprocesamiento, y\n",
    "codificación, sobre el conjunto de datos dado por el ML Challenge 2019, se\n",
    "almacenó dicho dataset de manera remota para facilitar su acceso durante los\n",
    "experimentos que se trabajaron durante esta sección.\n",
    "\n",
    "Las modificaciones y decisiones de diseño tomadas durante las etapas\n",
    "anteriores pueden encontrarse en los directorios `exploration`, y `encoding`."
   ]
  },
  {
   "cell_type": "markdown",
   "id": "c69859ef",
   "metadata": {
    "lines_to_next_cell": 0
   },
   "source": [
    "## Reproducción en Google Colab\n",
    "Esta notebook puede ejecutarse de manera local utilizando un entorno de\n",
    "`conda` por medio del archivo de configuración `environment.yml` ubicado en la\n",
    "raíz del proyecto o bien de manera online por medio de `Google Colab`. Para\n",
    "este último, es necesario ejecutar la siguiente celda con las dependencias\n",
    "necesarias e incluir los módulos que se encuentran en este directorio."
   ]
  },
  {
   "cell_type": "code",
   "execution_count": null,
   "id": "9ed2b735",
   "metadata": {
    "lines_to_next_cell": 0
   },
   "outputs": [],
   "source": [
    "# !pip install mlflow\n",
    "# !pip install keras\n",
    "# !pip install gensim --upgrade\n",
    "# !pip install scikit-learn==0.21.2\n",
    "# !pip install numpy==0.19"
   ]
  },
  {
   "cell_type": "markdown",
   "id": "20d811fc",
   "metadata": {
    "lines_to_next_cell": 0
   },
   "source": [
    "## Pipeline\n",
    "Dado que el objetivo de este proyecto es estimar la categoría a la cual\n",
    "pertenece un título de una publicación de Mercado Libre. Se desarrolló un\n",
    "*pipeline* de ejecución a partir del conjunto de datos preprocesado.\n",
    "\n",
    "![Pipeline](images/pipeline.png)\n",
    "\n",
    "Las capas de vectorización y embedding fueron llevadas a fondo en las\n",
    "secciones preprocesamiento y codificación, permitiendo proyectar los títulos\n",
    "de las publicaciones en un espacio N dimensional que preserva la semántica de\n",
    "las palabras.\n",
    "\n",
    "El foco de esta sección, que denominamos `modeling`, consiste en encontrar el\n",
    "modelo o clasificador que obtenga el mejor `balanced_accuracy` en la\n",
    "clasificación de las publicaciones. Dicha métrica es la que nos interesa mejorar\n",
    "durante la competencia y será relevante durante la búsqueda de\n",
    "hiperparametros.\n",
    "\n",
    "La ejecución de uno o más procesos en este *pipeline* es lo que definiremos\n",
    "como un experimento, donde propondremos como hipótesis una configuración sobre\n",
    "el segundo, tercer, y cuarto paso. Finalmente, el registro de resultados se\n",
    "llevó a cabo de la librería mlflow sobre el último paso.\n",
    "\n",
    "A su vez, varias funciones *helper* fueron definidas en respectivos archivos\n",
    "para facilitar la implementación del *pipeline*.\n",
    "\n",
    "Estos se disponen en:\n",
    "\n",
    "- `models.py`: Definición de la arquitectura de las redes neuronales usadas.\n",
    "- `embedding.py`: Generación de *in-domain embeddings* y extracción de\n",
    "  codificaciones *pre-trained*.\n",
    "- `preprocess.py`: Herramientas de preprocesamiento de texto para los títulos\n",
    "  del *dataset*.\n",
    "- `encoding.py`: Codificación de títulos y etiquetas."
   ]
  },
  {
   "cell_type": "markdown",
   "id": "4332360f",
   "metadata": {
    "lines_to_next_cell": 0
   },
   "source": [
    "## Librerias"
   ]
  },
  {
   "cell_type": "code",
   "execution_count": null,
   "id": "69d36911",
   "metadata": {
    "lines_to_next_cell": 0
   },
   "outputs": [],
   "source": [
    "# MLflow\n",
    "import mlflow\n",
    "# Pandas\n",
    "import pandas as pd\n",
    "# Keras\n",
    "from keras.wrappers.scikit_learn import KerasClassifier\n",
    "# Sklearn\n",
    "from sklearn.model_selection import train_test_split\n",
    "from sklearn.model_selection import RandomizedSearchCV\n",
    "from sklearn.metrics import balanced_accuracy_score, accuracy_score\n",
    "# Scipy\n",
    "from scipy.stats import uniform, randint, loguniform\n",
    "# Utils\n",
    "from models import ff_model, lstm_model\n",
    "# TODO: KerasClassifier internal implementation uses .predict() when searching\n",
    "# hyperparameters. Since this utility is deprecated, this warning is displayed\n",
    "# during tuning.\n",
    "import warnings\n",
    "warnings.filterwarnings(\"module\", category=DeprecationWarning)"
   ]
  },
  {
   "cell_type": "markdown",
   "id": "eb928c09",
   "metadata": {
    "lines_to_next_cell": 0
   },
   "source": [
    "## Sampling de datos\n",
    "Debido al gran tamaño de muestras disponibles (por encima de los 600000\n",
    "ejemplares), se optó por considerar únicamente un subconjunto aleatorio del\n",
    "mismo para realizar los experimentos."
   ]
  },
  {
   "cell_type": "code",
   "execution_count": null,
   "id": "0d60d0e7",
   "metadata": {
    "lines_to_next_cell": 0
   },
   "outputs": [],
   "source": [
    "URL = \"https://www.famaf.unc.edu.ar/~nocampo043/ML_2019_challenge_dataset_preprocessed.csv\"\n",
    "NOF_SAMPLES = 2000\n",
    "SEED = 0\n",
    "\n",
    "df = pd.read_csv(URL)\n",
    "df = df.sample(n=NOF_SAMPLES, random_state=SEED)\n",
    "df"
   ]
  },
  {
   "cell_type": "markdown",
   "id": "2de82423",
   "metadata": {
    "lines_to_next_cell": 0
   },
   "source": [
    "## Train-Test Split\n",
    "Durante la separación en conjuntos de *train* y *test*, se definió\n",
    "inicialmente la variable objetivo `y = \"encoded_category\"` sin especificar las\n",
    "características. Esto fue para mantener la estructura de datos en la que se\n",
    "encuentran almacenados los ejemplares, y se permita filtrar de manera sencilla\n",
    "los conjuntos de *train* y de *test*, por *label_quality*. De esta manera, se\n",
    "pudo discriminar el *balanced_accuracy_score* en *test* para estos dos\n",
    "subconjuntos."
   ]
  },
  {
   "cell_type": "code",
   "execution_count": null,
   "id": "163f5624",
   "metadata": {
    "lines_to_next_cell": 0
   },
   "outputs": [],
   "source": [
    "y = df[\"encoded_category\"]\n",
    "df_train, df_test, y_train, y_test = train_test_split(df,\n",
    "                                                      y,\n",
    "                                                      test_size=0.2,\n",
    "                                                      random_state=SEED)\n",
    "\n",
    "df_test_unrel = df_test.loc[df_test[\"label_quality\"] == \"unreliable\"]\n",
    "df_test_rel = df_test[df_test[\"label_quality\"] == \"reliable\"]"
   ]
  },
  {
   "cell_type": "code",
   "execution_count": null,
   "id": "859e8508",
   "metadata": {
    "lines_to_next_cell": 0
   },
   "outputs": [],
   "source": [
    "y_test_unrel = df_test_unrel[\"encoded_category\"]\n",
    "y_test_rel = df_test_rel[\"encoded_category\"]"
   ]
  },
  {
   "cell_type": "markdown",
   "id": "53980962",
   "metadata": {
    "lines_to_next_cell": 0
   },
   "source": [
    "Una vez hecho esto, las *features* se obtienen proyectando la columna\n",
    "`cleaned_title` de estos *dataframes*."
   ]
  },
  {
   "cell_type": "code",
   "execution_count": null,
   "id": "5837b50c",
   "metadata": {
    "lines_to_next_cell": 0
   },
   "outputs": [],
   "source": [
    "x_train = df_train[\"cleaned_title\"]\n",
    "x_test = df_test[\"cleaned_title\"]\n",
    "x_test_rel = df_test_rel[\"cleaned_title\"]\n",
    "x_test_unrel = df_test_unrel[\"cleaned_title\"]"
   ]
  },
  {
   "cell_type": "markdown",
   "id": "bec055cc",
   "metadata": {
    "lines_to_next_cell": 0
   },
   "source": [
    "## Padding\n",
    "Dado que en los títulos de las publicaciones la cantidad de palabras que\n",
    "ocurren varía, es necesario extender los vectores representantes a un ancho\n",
    "común, en este caso, el de la oración más larga."
   ]
  },
  {
   "cell_type": "code",
   "execution_count": null,
   "id": "46592842",
   "metadata": {
    "lines_to_next_cell": 0
   },
   "outputs": [],
   "source": [
    "length_long_sentence = (df[\"cleaned_title\"].apply(lambda s: s.split()).apply(\n",
    "    lambda s: len(s)).max())"
   ]
  },
  {
   "cell_type": "markdown",
   "id": "e5e08df6",
   "metadata": {
    "lines_to_next_cell": 0
   },
   "source": [
    "## LSTM vs Feed Forward (lstm_vs_ff)\n",
    "El experimento a evaluar en esta notebook consta de la comparación de dos\n",
    "modelos:\n",
    "- Red LSTM (lstm)\n",
    "- Red Feed Forward (ff)\n",
    "\n",
    "Ambos cuentan con capas de vectorización, *embedding*, aprendizaje, *dropout*,\n",
    "y predicción diferenciandose en la de aprendizaje. Estas son una `LSTM layer`\n",
    "y una `Dense layer` respectivamente.\n",
    "\n",
    "Para la busqueda de parámetros se utilizó una `Randomized Search CV` bajo las\n",
    "mismas distribuciones en ambos modelos."
   ]
  },
  {
   "cell_type": "code",
   "execution_count": null,
   "id": "c42394ef",
   "metadata": {
    "lines_to_next_cell": 0
   },
   "outputs": [],
   "source": [
    "mlflow.set_experiment(\"LSTM vs Feed Forward\")\n",
    "\n",
    "with mlflow.start_run():\n",
    "    build_ff = lambda units, dropout, lr, embedding_dim: ff_model(\n",
    "        x_train,\n",
    "        length_long_sentence,\n",
    "        units,\n",
    "        dropout,\n",
    "        lr,\n",
    "        embedding_dim)\n",
    "\n",
    "    build_lstm = lambda units, dropout, lr, embedding_dim: lstm_model(\n",
    "        x_train, length_long_sentence, units, dropout, lr, embedding_dim)\n",
    "\n",
    "    ff = KerasClassifier(build_fn=build_ff)\n",
    "\n",
    "    lstm = KerasClassifier(build_fn=build_lstm)\n",
    "\n",
    "    dist = {\n",
    "        \"batch_size\": [100, 1000],\n",
    "        \"epochs\": [5, 10],\n",
    "        \"units\": randint(256, 512),\n",
    "        \"lr\": loguniform(1e-4, 1e-1),\n",
    "        \"dropout\": uniform(.1, .6),\n",
    "        \"embedding_dim\": randint(50, 200)\n",
    "    }\n",
    "\n",
    "    searches = [\n",
    "        (\"lstm\", lstm, dist),\n",
    "        (\"ff\", ff, dist)\n",
    "    ]\n",
    "\n",
    "    for model_name, hyper_model, dist in searches:\n",
    "        mlflow.log_params(dist)\n",
    "\n",
    "        clf = RandomizedSearchCV(estimator=hyper_model,\n",
    "                                 param_distributions=dist,\n",
    "                                 cv=5,\n",
    "                                 scoring=\"balanced_accuracy\",\n",
    "                                 verbose=3)\n",
    "\n",
    "        clf.fit(x_train, y_train)\n",
    "\n",
    "        y_pred = clf.best_estimator_.predict(x_test)\n",
    "        y_pred_rel = clf.best_estimator_.predict(x_test_rel)\n",
    "        y_pred_unrel = clf.best_estimator_.predict(x_test_unrel)\n",
    "\n",
    "        blc_acc = balanced_accuracy_score(y_test, y_pred)\n",
    "        blc_acc_rel = balanced_accuracy_score(y_test_rel, y_pred_rel)\n",
    "        blc_acc_unrel = balanced_accuracy_score(y_test_unrel, y_pred_unrel)\n",
    "\n",
    "        acc = accuracy_score(y_test, y_pred)\n",
    "        acc_rel = accuracy_score(y_test_rel, y_pred_rel)\n",
    "        acc_unrel = accuracy_score(y_test_unrel, y_pred_unrel)\n",
    "\n",
    "        mlflow.log_metric(\"balanced_accuracy\", blc_acc)\n",
    "        mlflow.log_metric(\"balanced_accuracy reliable\", blc_acc_rel)\n",
    "        mlflow.log_metric(\"balanced_accuracy unreliable\", blc_acc_unrel)\n",
    "\n",
    "        mlflow.log_metric(\"accuracy\", acc)\n",
    "        mlflow.log_metric(\"accuracy reliable\", acc_rel)\n",
    "        mlflow.log_metric(\"accuracy unreliable\", acc_unrel)\n",
    "\n",
    "        predictions = pd.DataFrame(data={\"y_pred\": y_pred, \"y_test\": y_test})\n",
    "        predictions.to_csv(f\"{model_name}_predictions.csv\", index=False)"
   ]
  },
  {
   "cell_type": "code",
   "execution_count": null,
   "id": "86d65a4b",
   "metadata": {
    "lines_to_next_cell": 0
   },
   "outputs": [],
   "source": [
    "!mlflow ui"
   ]
  },
  {
   "cell_type": "markdown",
   "id": "8251870c",
   "metadata": {},
   "source": [
    "Para una cantidad de ejemplares de 10000, se obtuvo mejores resultados con la red Feed Forward\n",
    "en balanced_accuracy en los conjuntos reliable, unreliable, y sin filtro alguno.\n",
    "Con aproximadamente 0.70 para la `ff` y de 0.40 para `lstm`. Estos resultados probablemente\n",
    "se hayan dado debido al muestreo donde algunas de las clases de no fue vista durante entrenamiento.\n",
    "A su vez, debido a la capacidad de las redes lstm de poder visualizar en mayor medida\n",
    "el contexto en una oración, se esperaría tener mejores resultados alterando la arquitectura de la red."
   ]
  }
 ],
 "metadata": {
  "jupytext": {
   "cell_metadata_filter": "-all",
   "main_language": "python",
   "notebook_metadata_filter": "-all"
  }
 },
 "nbformat": 4,
 "nbformat_minor": 5
}
