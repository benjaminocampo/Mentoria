{
 "cells": [
  {
   "cell_type": "markdown",
   "id": "39e69c92",
   "metadata": {
    "lines_to_next_cell": 0
   },
   "source": [
    "# Categorización de publicaciones de productos de Mercado Libre\n",
    "Autores: Maximiliano Tejerina, Eduardo Barseghian, Benjamín Ocampo"
   ]
  },
  {
   "cell_type": "markdown",
   "id": "c9a46faf",
   "metadata": {
    "lines_to_next_cell": 0
   },
   "source": [
    "Una vez finalizadas las etapas de visualización de datos, preprocesamiento, y\n",
    "codificación, sobre el conjunto de datos dado por el ML Challenge 2019, se\n",
    "almacenó dicho dataset de manera remota para facilitar su acceso durante los\n",
    "experimentos que se trabajaron durante esta sección.\n",
    "\n",
    "Las modificaciones y decisiones de diseño tomadas durante las etapas\n",
    "anteriores pueden encontrarse en los directorios `exploration`, y `encoding`."
   ]
  },
  {
   "cell_type": "markdown",
   "id": "91b68b30",
   "metadata": {
    "lines_to_next_cell": 0
   },
   "source": [
    "## Reproducción en Google Colab\n",
    "Esta notebook puede ejecutarse de manera local utilizando un entorno de\n",
    "`conda` por medio del archivo de configuración `environment.yml` ubicado en la\n",
    "raíz del proyecto o bien de manera online por medio de `Google Colab`. Para\n",
    "este último, es necesario ejecutar la siguiente celda con las dependencias\n",
    "necesarias e incluir los módulos que se encuentran en este directorio."
   ]
  },
  {
   "cell_type": "code",
   "execution_count": null,
   "id": "0b99c5dc",
   "metadata": {
    "lines_to_next_cell": 0
   },
   "outputs": [],
   "source": [
    "# !pip install mlflow\n",
    "# !pip install keras"
   ]
  },
  {
   "cell_type": "markdown",
   "id": "a6dba21d",
   "metadata": {
    "lines_to_next_cell": 0
   },
   "source": [
    "## Pipeline\n",
    "Dado que el objetivo de este proyecto es estimar la categoría a la cual\n",
    "pertenece un título de una publicación de Mercado Libre. Se desarrolló un\n",
    "*pipeline* de ejecución a partir del conjunto de datos preprocesado.\n",
    "\n",
    "![Pipeline](images/pipeline.png)\n",
    "\n",
    "Las capas de vectorización y embedding fueron llevadas a fondo en las\n",
    "secciones preprocesamiento y codificación, permitiendo proyectar los títulos\n",
    "de las publicaciones en un espacio N dimensional que preserva la semántica de\n",
    "las palabras.\n",
    "\n",
    "El foco de esta sección, que denominamos `modeling`, consiste en encontrar el\n",
    "modelo o clasificador que obtenga el mejor `balanced_accuracy` en la\n",
    "clasificación de las publicaciones. Dicha métrica es la que nos interesa mejorar\n",
    "durante la competencia y será relevante durante la búsqueda de\n",
    "hiperparametros.\n",
    "\n",
    "La ejecución de uno o más procesos en este *pipeline* es lo que definiremos\n",
    "como un experimento, donde propondremos como hipótesis una configuración sobre\n",
    "el segundo, tercer, y cuarto paso. Finalmente, el registro de resultados se\n",
    "llevó a cabo de la librería mlflow sobre el último paso.\n",
    "\n",
    "A su vez, varias funciones *helper* fueron definidas en respectivos archivos\n",
    "para facilitar la implementación del *pipeline*.\n",
    "\n",
    "Estos se disponen en:\n",
    "\n",
    "- `models.py`: Definición de la arquitectura de las redes neuronales usadas.\n",
    "- `embedding.py`: Generación de *in-domain embeddings* y extracción de\n",
    "  codificaciones *pre-trained*.\n",
    "- `preprocess.py`: Herramientas de preprocesamiento de texto para los títulos\n",
    "  del *dataset*.\n",
    "- `encoding.py`: Codificación de títulos y etiquetas."
   ]
  },
  {
   "cell_type": "markdown",
   "id": "0c5bb04b",
   "metadata": {
    "lines_to_next_cell": 0
   },
   "source": [
    "## Librerias"
   ]
  },
  {
   "cell_type": "code",
   "execution_count": null,
   "id": "38a82aff",
   "metadata": {
    "lines_to_next_cell": 0
   },
   "outputs": [],
   "source": [
    "# Pandas\n",
    "import pandas as pd\n",
    "# Seaborn\n",
    "import seaborn as sns\n",
    "# Matplotlib\n",
    "import matplotlib.pyplot as plt\n",
    "# Sklearn\n",
    "from sklearn.model_selection import train_test_split, GridSearchCV\n",
    "from sklearn.metrics import balanced_accuracy_score, confusion_matrix\n",
    "from sklearn.linear_model import LogisticRegression\n",
    "# Utils\n",
    "from transformers import FastTextVectorizer\n",
    "from models import FeedForward_Net, LSTM_Net"
   ]
  },
  {
   "cell_type": "markdown",
   "id": "f644bebc",
   "metadata": {
    "lines_to_next_cell": 0
   },
   "source": [
    "## Sampling de datos\n",
    "Debido al gran tamaño de muestras disponibles (por encima de los 600000\n",
    "ejemplares), se optó por considerar únicamente un subconjunto aleatorio del\n",
    "mismo para realizar los experimentos."
   ]
  },
  {
   "cell_type": "code",
   "execution_count": null,
   "id": "63f3f904",
   "metadata": {
    "lines_to_next_cell": 0
   },
   "outputs": [],
   "source": [
    "URL = \"https://www.famaf.unc.edu.ar/~nocampo043/ML_2019_challenge_dataset_preprocessed.csv\"\n",
    "NOF_SAMPLES = 20000\n",
    "SEED = 0\n",
    "\n",
    "df = pd.read_csv(URL)\n",
    "df = df.sample(n=NOF_SAMPLES, random_state=SEED)\n",
    "df"
   ]
  },
  {
   "cell_type": "markdown",
   "id": "f4ae8944",
   "metadata": {
    "lines_to_next_cell": 0
   },
   "source": [
    "## Train-Test Split\n",
    "Durante la separación en conjuntos de *train* y *test*, se definió\n",
    "inicialmente la variable objetivo `y = \"encoded_category\"` sin especificar las\n",
    "características. Esto fue para mantener la estructura de datos en la que se\n",
    "encuentran almacenados los ejemplares, y se permita filtrar de manera sencilla\n",
    "los conjuntos de *train* y de *test*, por *label_quality*. De esta manera, se\n",
    "pudo discriminar el *balanced_accuracy_score* en *test* para estos dos\n",
    "subconjuntos."
   ]
  },
  {
   "cell_type": "code",
   "execution_count": null,
   "id": "3428ed56",
   "metadata": {
    "lines_to_next_cell": 0
   },
   "outputs": [],
   "source": [
    "y = df[\"encoded_category\"]\n",
    "df_train, df_test, y_train, y_test = train_test_split(df,\n",
    "                                                      y,\n",
    "                                                      test_size=0.2,\n",
    "                                                      random_state=SEED)\n",
    "\n",
    "df_test_unrel = df_test.loc[df_test[\"label_quality\"] == \"unreliable\"]\n",
    "df_test_rel = df_test[df_test[\"label_quality\"] == \"reliable\"]"
   ]
  },
  {
   "cell_type": "code",
   "execution_count": null,
   "id": "a4a4590f",
   "metadata": {
    "lines_to_next_cell": 0
   },
   "outputs": [],
   "source": [
    "y_test_unrel = df_test_unrel[\"encoded_category\"]\n",
    "y_test_rel = df_test_rel[\"encoded_category\"]"
   ]
  },
  {
   "cell_type": "markdown",
   "id": "b85d6bcc",
   "metadata": {
    "lines_to_next_cell": 0
   },
   "source": [
    "Una vez hecho esto, las *features* se obtienen proyectando la columna\n",
    "`cleaned_title` de estos *dataframes*."
   ]
  },
  {
   "cell_type": "code",
   "execution_count": null,
   "id": "0f2621dd",
   "metadata": {
    "lines_to_next_cell": 0
   },
   "outputs": [],
   "source": [
    "x_train = df_train[\"cleaned_title\"]\n",
    "x_test = df_test[\"cleaned_title\"]\n",
    "x_test_rel = df_test_rel[\"cleaned_title\"]\n",
    "x_test_unrel = df_test_unrel[\"cleaned_title\"]\n",
    "\n",
    "length_longest_sentence = int(df[\"cleaned_title\"].apply(lambda title: len(title.split())).max())"
   ]
  },
  {
   "cell_type": "markdown",
   "id": "fa5b5bc9",
   "metadata": {
    "lines_to_next_cell": 0
   },
   "source": [
    "## \n",
    "El experimento a evaluar en esta notebook consta de la comparación de tres\n",
    "modelos:\n",
    "\n",
    "- LogisticRegression (lgr)\n",
    "- Red LSTM (lstm)\n",
    "- Red Feed Forward (ff)\n",
    "\n",
    "Para la busqueda de parámetros se utilizó una `Grid Search CV` bajo el mismo\n",
    "espacio de busqueda en las redes neuronales"
   ]
  },
  {
   "cell_type": "markdown",
   "id": "7e05c698",
   "metadata": {
    "lines_to_next_cell": 0
   },
   "source": [
    "## Baseline\n",
    "vector_dim = 100\n",
    "transformer = FastTextVectorizer(dim=vector_dim, return_sequences=False)\n",
    "transformer.fit(x_train)\n",
    "x_train_arr = transformer.transform(x_train)\n",
    "x_test_arr = transformer.transform(x_test)\n",
    "x_test_rel_arr = transformer.transform(x_test_rel)\n",
    "x_test_unrel_arr = transformer.transform(x_test_unrel)"
   ]
  },
  {
   "cell_type": "code",
   "execution_count": null,
   "id": "36f4b2a5",
   "metadata": {
    "lines_to_next_cell": 0
   },
   "outputs": [],
   "source": [
    "model = LogisticRegression()\n",
    "param_grid = {\n",
    "    \"C\": [1, 0.1, 0.001],\n",
    "    \"penalty\": [\"elasticnet\"],\n",
    "    \"class_weight\": [\"balanced\"],\n",
    "    \"random_state\": [0],\n",
    "    \"solver\": [\"saga\"],\n",
    "    \"l1_ratio\": [0, 1, 0.5]\n",
    "}"
   ]
  },
  {
   "cell_type": "code",
   "execution_count": null,
   "id": "7fc2cf43",
   "metadata": {
    "lines_to_next_cell": 0
   },
   "outputs": [],
   "source": [
    "clf = GridSearchCV(estimator=model,\n",
    "                   param_grid=param_grid,\n",
    "                   cv=5,\n",
    "                   scoring=\"balanced_accuracy\",\n",
    "                   verbose=3)\n",
    "clf.fit(x_train_arr, y_train)"
   ]
  },
  {
   "cell_type": "code",
   "execution_count": null,
   "id": "6594d28c",
   "metadata": {
    "lines_to_next_cell": 0
   },
   "outputs": [],
   "source": [
    "clf.best_estimator_.predict(x_test_arr)\n",
    "y_pred = clf.best_estimator_.predict(x_test_arr)\n",
    "y_pred_rel = clf.best_estimator_.predict(x_test_rel_arr)\n",
    "y_pred_unrel = clf.best_estimator_.predict(x_test_unrel_arr)\n",
    "blc_acc = balanced_accuracy_score(y_test, y_pred)\n",
    "blc_acc_rel = balanced_accuracy_score(y_test_rel, y_pred_rel)\n",
    "blc_acc_unrel = balanced_accuracy_score(y_test_unrel, y_pred_unrel)"
   ]
  },
  {
   "cell_type": "code",
   "execution_count": null,
   "id": "096c86af",
   "metadata": {
    "lines_to_next_cell": 0
   },
   "outputs": [],
   "source": [
    "cm = confusion_matrix(y_test, y_pred)\n",
    "plt.figure(figsize=(10, 7), dpi=600)\n",
    "cm = sns.heatmap(cm, annot=True, fmt=\"d\")\n",
    "plt.xlabel(\"Predicted label\")\n",
    "plt.ylabel(\"True label\")\n",
    "plt.title(\"Regresión Logística\")\n",
    "plt.savefig(\"LogisticRegression.png\")\n",
    "plt.clf()"
   ]
  },
  {
   "cell_type": "code",
   "execution_count": null,
   "id": "8ba19077",
   "metadata": {
    "lines_to_next_cell": 0
   },
   "outputs": [],
   "source": [
    "clf.cv_results_[\"best_blc_acc\"] = blc_acc\n",
    "clf.cv_results_[\"best_blc_acc_rel\"] = blc_acc_rel\n",
    "clf.cv_results_[\"best_blc_acc_unrel\"] = blc_acc_unrel\n",
    "results = pd.DataFrame(clf.cv_results_)\n",
    "results.to_csv(\"LogisticRegression.csv\", index=False)"
   ]
  },
  {
   "cell_type": "markdown",
   "id": "c6f0d1f9",
   "metadata": {
    "lines_to_next_cell": 0
   },
   "source": [
    "## NNet FeedForward"
   ]
  },
  {
   "cell_type": "code",
   "execution_count": null,
   "id": "977be405",
   "metadata": {
    "lines_to_next_cell": 0
   },
   "outputs": [],
   "source": [
    "ff_net = FeedForward_Net(vector_dim=vector_dim)\n",
    "\n",
    "param_grid = {\n",
    "    \"batch_size\": [100],\n",
    "    \"epochs\": [100],\n",
    "    \"units\": [256],\n",
    "    \"lr\": [1e-1],\n",
    "    \"dropout\": [.4],\n",
    "}\n",
    "clf = GridSearchCV(estimator=ff_net,\n",
    "                   param_grid=param_grid,\n",
    "                   cv=5,\n",
    "                   scoring=\"balanced_accuracy\",\n",
    "                   verbose=3)\n",
    "clf.fit(x_train_arr, y_train)"
   ]
  },
  {
   "cell_type": "code",
   "execution_count": null,
   "id": "a60620d1",
   "metadata": {
    "lines_to_next_cell": 0
   },
   "outputs": [],
   "source": [
    "y_pred = clf.best_estimator_.predict(x_test_arr)\n",
    "y_pred_rel = clf.best_estimator_.predict(x_test_rel_arr)\n",
    "y_pred_unrel = clf.best_estimator_.predict(x_test_unrel_arr)\n",
    "blc_acc = balanced_accuracy_score(y_test, y_pred)\n",
    "blc_acc_rel = balanced_accuracy_score(y_test_rel, y_pred_rel)\n",
    "blc_acc_unrel = balanced_accuracy_score(y_test_unrel, y_pred_unrel)"
   ]
  },
  {
   "cell_type": "code",
   "execution_count": null,
   "id": "94d0734c",
   "metadata": {
    "lines_to_next_cell": 0
   },
   "outputs": [],
   "source": [
    "cm = confusion_matrix(y_test, y_pred)\n",
    "plt.figure(figsize=(10, 7), dpi=600)\n",
    "cm = sns.heatmap(cm, annot=True, fmt=\"d\")\n",
    "plt.xlabel(\"Predicted label\")\n",
    "plt.ylabel(\"True label\")\n",
    "plt.title(\"Red Feed Forward\")\n",
    "plt.savefig(\"Feed_Forward.png\")\n",
    "plt.clf()"
   ]
  },
  {
   "cell_type": "code",
   "execution_count": null,
   "id": "1c6d3e9d",
   "metadata": {
    "lines_to_next_cell": 0
   },
   "outputs": [],
   "source": [
    "clf.cv_results_[\"best_blc_acc\"] = blc_acc\n",
    "clf.cv_results_[\"best_blc_acc_rel\"] = blc_acc_rel\n",
    "clf.cv_results_[\"best_blc_acc_unrel\"] = blc_acc_unrel\n",
    "results = pd.DataFrame(clf.cv_results_)\n",
    "results.to_csv(\"FeedForward.csv\", index=False)"
   ]
  },
  {
   "cell_type": "markdown",
   "id": "544d9f55",
   "metadata": {
    "lines_to_next_cell": 0
   },
   "source": [
    "## Sequential LSTM Net"
   ]
  },
  {
   "cell_type": "code",
   "execution_count": null,
   "id": "5ff82831",
   "metadata": {
    "lines_to_next_cell": 0
   },
   "outputs": [],
   "source": [
    "vector_dim = 100\n",
    "lstm_net = LSTM_Net(vector_dim=vector_dim,\n",
    "                    sequence_dim=length_longest_sentence,\n",
    "                    batch_size=100,\n",
    "                    epochs=100,\n",
    "                    units=256,\n",
    "                    lr=1e-1,\n",
    "                    dropout=.1)\n",
    "transformer = FastTextVectorizer(dim=vector_dim,\n",
    "                                 length_longest_sentence=length_longest_sentence,\n",
    "                                 return_sequences=True)\n",
    "transformer.fit(x_train)\n",
    "x_train_arr = transformer.transform(x_train)\n",
    "x_test_arr = transformer.transform(x_test)\n",
    "x_test_rel_arr = transformer.transform(x_test_rel)\n",
    "x_test_unrel_arr = transformer.transform(x_test_unrel)"
   ]
  },
  {
   "cell_type": "code",
   "execution_count": null,
   "id": "818674b1",
   "metadata": {
    "lines_to_next_cell": 0
   },
   "outputs": [],
   "source": [
    "lstm_net.fit(x_train_arr, y_train)"
   ]
  },
  {
   "cell_type": "code",
   "execution_count": null,
   "id": "fa6d50e1",
   "metadata": {
    "lines_to_next_cell": 0
   },
   "outputs": [],
   "source": [
    "y_pred = lstm_net.predict(x_test_arr)\n",
    "y_pred_rel = lstm_net.predict(x_test_rel_arr)\n",
    "y_pred_unrel = lstm_net.predict(x_test_unrel_arr)\n",
    "blc_acc = balanced_accuracy_score(y_test, y_pred)\n",
    "blc_acc_rel = balanced_accuracy_score(y_test_rel, y_pred_rel)\n",
    "blc_acc_unrel = balanced_accuracy_score(y_test_unrel, y_pred_unrel)"
   ]
  },
  {
   "cell_type": "code",
   "execution_count": null,
   "id": "b49a9727",
   "metadata": {
    "lines_to_next_cell": 0
   },
   "outputs": [],
   "source": [
    "cm = confusion_matrix(y_test, y_pred)\n",
    "plt.figure(figsize=(10, 7), dpi=600)\n",
    "cm = sns.heatmap(cm, annot=True, fmt=\"d\")\n",
    "plt.xlabel(\"Predicted label\")\n",
    "plt.ylabel(\"True label\")\n",
    "plt.title(\"Red LSTM\")\n",
    "plt.savefig(\"LSTM.png\")\n",
    "plt.clf()"
   ]
  },
  {
   "cell_type": "markdown",
   "id": "3582ffb8",
   "metadata": {},
   "source": [
    "Para una cantidad de ejemplares de 20000, se obtuvo muy buenos resultados con\n",
    "la red Feed Forward y nuestro Baseline en balanced_accuracy en los conjuntos\n",
    "reliable, unreliable, y sin filtro alguno. Nos sorprendio el resultado de la\n",
    "LSTM ya que supusimos que podía llegar a tomar ventaja de la secuencia de los\n",
    "títulos pero no pudimos lograr que aprenda el problema. Se cree que utilizando\n",
    "todos los datos podría llegar a mejorar los resultados de este modelo."
   ]
  }
 ],
 "metadata": {
  "jupytext": {
   "cell_metadata_filter": "-all",
   "main_language": "python",
   "notebook_metadata_filter": "-all"
  }
 },
 "nbformat": 4,
 "nbformat_minor": 5
}
